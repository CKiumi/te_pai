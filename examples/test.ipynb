{
 "cells": [
  {
   "cell_type": "code",
   "execution_count": 12,
   "id": "de2ebe94",
   "metadata": {},
   "outputs": [
    {
     "name": "stdout",
     "output_type": "stream",
     "text": [
      "Qiskit  ⟨Y0⟩ = 0.404508\n",
      "Qulacs  ⟨Y0⟩ = -0.404508\n"
     ]
    }
   ],
   "source": [
    "import numpy as np\n",
    "from qulacs import QuantumState, QuantumCircuit as QCQ, Observable\n",
    "from qulacs.gate import RX, RZ, PauliRotation\n",
    "from qiskit import QuantumCircuit, transpile\n",
    "from qiskit.circuit.library import RXGate, RZGate, RXXGate, RYYGate, RZZGate\n",
    "from qiskit.quantum_info import SparsePauliOp\n",
    "from qiskit_aer import AerSimulator\n",
    "\n",
    "nq = 2\n",
    "\n",
    "obs_qiskit = SparsePauliOp.from_list([(\"IY\", 1.0)])\n",
    "qc_qiskit = QuantumCircuit(nq)\n",
    "\n",
    "qc_qiskit.h(0)\n",
    "qc_qiskit.h(1)\n",
    "qc_qiskit.rz(np.pi / 4, 0)\n",
    "qc_qiskit.rx(np.pi / 3, 1)\n",
    "qc_qiskit.append(RXXGate(np.pi / 5), [0, 1])\n",
    "qc_qiskit.append(RYYGate(np.pi / 3), [0, 1])\n",
    "qc_qiskit.append(RZZGate(np.pi / 4), [0, 1])\n",
    "qc_qiskit.save_expectation_value(obs_qiskit, list(range(nq)), \"expval\")\n",
    "backend = AerSimulator(method=\"statevector\")\n",
    "result = backend.run(transpile(qc_qiskit, backend)).result()\n",
    "qiskit_expectation = result.data(0)[\"expval\"]\n",
    "state_qulacs = QuantumState(nq)\n",
    "qc_qulacs = QCQ(nq)\n",
    "qc_qulacs.add_H_gate(0)\n",
    "qc_qulacs.add_H_gate(1)\n",
    "qc_qulacs.add_gate(RZ(0, np.pi / 4))\n",
    "qc_qulacs.add_gate(RX(1, np.pi / 3))\n",
    "qc_qulacs.add_gate(PauliRotation([0, 1], [1, 1], np.pi / 5))\n",
    "qc_qulacs.add_gate(PauliRotation([0, 1], [2, 2], np.pi / 3))\n",
    "qc_qulacs.add_gate(PauliRotation([0, 1], [3, 3], np.pi / 4))\n",
    "qc_qulacs.update_quantum_state(state_qulacs)\n",
    "\n",
    "# Observable: Y on qubit 0\n",
    "obs_qulacs = Observable(nq)\n",
    "obs_qulacs.add_operator(1.0, \"Y 0\")\n",
    "qulacs_expectation = obs_qulacs.get_expectation_value(state_qulacs)\n",
    "print(f\"Qiskit  ⟨Y0⟩ = {qiskit_expectation:.6f}\")\n",
    "print(f\"Qulacs  ⟨Y0⟩ = {qulacs_expectation:.6f}\")"
   ]
  },
  {
   "cell_type": "code",
   "execution_count": null,
   "id": "65999a08",
   "metadata": {},
   "outputs": [],
   "source": []
  }
 ],
 "metadata": {
  "kernelspec": {
   "display_name": ".venv",
   "language": "python",
   "name": "python3"
  },
  "language_info": {
   "codemirror_mode": {
    "name": "ipython",
    "version": 3
   },
   "file_extension": ".py",
   "mimetype": "text/x-python",
   "name": "python",
   "nbconvert_exporter": "python",
   "pygments_lexer": "ipython3",
   "version": "3.12.4"
  }
 },
 "nbformat": 4,
 "nbformat_minor": 5
}
