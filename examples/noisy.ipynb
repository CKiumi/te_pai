{
 "cells": [
  {
   "cell_type": "code",
   "execution_count": null,
   "id": "8f4ef45e",
   "metadata": {},
   "outputs": [],
   "source": [
    "import matplotlib.pyplot as plt\n",
    "import numpy as np\n",
    "\n",
    "from te_pai import Hamiltonian, Trotter, Observable\n",
    "\n",
    "freqs = np.loadtxt(\"hamil_coef.csv\", delimiter=\",\")"
   ]
  },
  {
   "cell_type": "code",
   "execution_count": null,
   "id": "a97eb596",
   "metadata": {},
   "outputs": [
    {
     "name": "stdout",
     "output_type": "stream",
     "text": [
      "The number of qubit:5\n",
      "Number of terms in the Hamiltonian:20\n"
     ]
    },
    {
     "ename": "AttributeError",
     "evalue": "'list' object has no attribute 'to_qulacs'",
     "output_type": "error",
     "traceback": [
      "\u001b[31m---------------------------------------------------------------------------\u001b[39m",
      "\u001b[31mAttributeError\u001b[39m                            Traceback (most recent call last)",
      "\u001b[36mCell\u001b[39m\u001b[36m \u001b[39m\u001b[32mIn[2]\u001b[39m\u001b[32m, line 5\u001b[39m\n\u001b[32m      3\u001b[39m n_snaps = \u001b[32m20\u001b[39m\n\u001b[32m      4\u001b[39m hamil = Hamiltonian.spin_chain_hamil(numQs, freqs, \u001b[32m99\u001b[39m)\n\u001b[32m----> \u001b[39m\u001b[32m5\u001b[39m res1 = \u001b[43mTrotter\u001b[49m\u001b[43m(\u001b[49m\u001b[43mhamil\u001b[49m\u001b[43m,\u001b[49m\u001b[43m \u001b[49m\u001b[43mnumQs\u001b[49m\u001b[43m,\u001b[49m\u001b[43m \u001b[49m\u001b[43mT\u001b[49m\u001b[43m,\u001b[49m\u001b[43m \u001b[49m\u001b[32;43m100\u001b[39;49m\u001b[43m,\u001b[49m\u001b[43m \u001b[49m\u001b[43mn_snaps\u001b[49m\u001b[43m,\u001b[49m\u001b[43m \u001b[49m\u001b[33;43m\"\u001b[39;49m\u001b[33;43mqulacs\u001b[39;49m\u001b[33;43m\"\u001b[39;49m\u001b[43m)\u001b[49m\u001b[43m.\u001b[49m\u001b[43mrun\u001b[49m\u001b[43m(\u001b[49m\u001b[43m[\u001b[49m\u001b[32;43m0.0001\u001b[39;49m\u001b[43m,\u001b[49m\u001b[32;43m0.001\u001b[39;49m\u001b[43m]\u001b[49m\u001b[43m)\u001b[49m\n\u001b[32m      6\u001b[39m res2 = Trotter(hamil, numQs, T, \u001b[32m100\u001b[39m, n_snaps, \u001b[33m\"\u001b[39m\u001b[33mqiskit\u001b[39m\u001b[33m\"\u001b[39m).run([\u001b[32m0.0001\u001b[39m,\u001b[32m0.001\u001b[39m])\n\u001b[32m      7\u001b[39m res3 = Trotter(hamil, numQs, T, \u001b[32m100\u001b[39m, n_snaps).run()\n",
      "\u001b[36mFile \u001b[39m\u001b[32m~/Desktop/te_pai/te_pai/trotter.py:38\u001b[39m, in \u001b[36mTrotter.run\u001b[39m\u001b[34m(self, obs, err)\u001b[39m\n\u001b[32m     33\u001b[39m         gates_arr.append([])\n\u001b[32m     34\u001b[39m     gates_arr[-\u001b[32m1\u001b[39m] += [\n\u001b[32m     35\u001b[39m         (pauli, \u001b[32m2\u001b[39m * coef * \u001b[38;5;28mself\u001b[39m.T / \u001b[38;5;28mself\u001b[39m.N, ind)\n\u001b[32m     36\u001b[39m         \u001b[38;5;28;01mfor\u001b[39;00m (pauli, ind, coef) \u001b[38;5;129;01min\u001b[39;00m \u001b[38;5;28mself\u001b[39m.terms[i]\n\u001b[32m     37\u001b[39m     ]\n\u001b[32m---> \u001b[39m\u001b[32m38\u001b[39m \u001b[38;5;28;01mreturn\u001b[39;00m \u001b[43mSimulator\u001b[49m\u001b[43m(\u001b[49m\u001b[33;43m\"\u001b[39;49m\u001b[33;43mqulacs\u001b[39;49m\u001b[33;43m\"\u001b[39;49m\u001b[43m)\u001b[49m\u001b[43m.\u001b[49m\u001b[43mget_probs\u001b[49m\u001b[43m(\u001b[49m\u001b[38;5;28;43mself\u001b[39;49m\u001b[43m.\u001b[49m\u001b[43mnq\u001b[49m\u001b[43m,\u001b[49m\u001b[43m \u001b[49m\u001b[43mgates_arr\u001b[49m\u001b[43m,\u001b[49m\u001b[43m \u001b[49m\u001b[43mobs\u001b[49m\u001b[43m,\u001b[49m\u001b[43m \u001b[49m\u001b[43merr\u001b[49m\u001b[43m=\u001b[49m\u001b[43merr\u001b[49m\u001b[43m)\u001b[49m\n",
      "\u001b[36mFile \u001b[39m\u001b[32m~/Desktop/te_pai/te_pai/backend/__init__.py:13\u001b[39m, in \u001b[36mSimulator.get_probs\u001b[39m\u001b[34m(self, nq, gates_arr, obs, err)\u001b[39m\n\u001b[32m     11\u001b[39m \u001b[38;5;28;01mdef\u001b[39;00m\u001b[38;5;250m \u001b[39m\u001b[34mget_probs\u001b[39m(\u001b[38;5;28mself\u001b[39m, nq, gates_arr, obs: Observable, err=\u001b[38;5;28;01mNone\u001b[39;00m):\n\u001b[32m     12\u001b[39m     \u001b[38;5;28;01mif\u001b[39;00m \u001b[38;5;28mself\u001b[39m.backend == \u001b[33m\"\u001b[39m\u001b[33mqulacs\u001b[39m\u001b[33m\"\u001b[39m:\n\u001b[32m---> \u001b[39m\u001b[32m13\u001b[39m         \u001b[38;5;28;01mreturn\u001b[39;00m qulacs.get_probs(nq, gates_arr, \u001b[43mobs\u001b[49m\u001b[43m.\u001b[49m\u001b[43mto_qulacs\u001b[49m(), err)\n\u001b[32m     14\u001b[39m     \u001b[38;5;28;01melif\u001b[39;00m \u001b[38;5;28mself\u001b[39m.backend == \u001b[33m\"\u001b[39m\u001b[33mqiskit\u001b[39m\u001b[33m\"\u001b[39m:\n\u001b[32m     15\u001b[39m         \u001b[38;5;28;01mreturn\u001b[39;00m qiskit.get_probs(nq, gates_arr, obs.to_qiskit(), err)\n",
      "\u001b[31mAttributeError\u001b[39m: 'list' object has no attribute 'to_qulacs'"
     ]
    }
   ],
   "source": [
    "numQs = 5\n",
    "T = 2\n",
    "n_snaps = 20\n",
    "obs = Observable(numQs, [(1, [(\"X\", 0)])])\n",
    "hamil = Hamiltonian.spin_chain_hamil(numQs, freqs, 99)\n",
    "res1 = Trotter(hamil, numQs, T, 2000, n_snaps).run()\n",
    "res2 = Trotter(hamil, numQs, T, 2000, n_snaps,\"qiskit\").run(obs, [0.0001,0.001])\n",
    "for res in [res1,res2]:\n",
    "    res = [2 * x - 1 for x in res]\n",
    "x = np.linspace(0, T, n_snaps + 1)\n",
    "plt.figure(figsize=(10, 6))\n",
    "\n",
    "plt.plot(\n",
    "    x, res1, \"r-\", alpha=0.7, label=\"Reference \\n(Lie Trotter, N=100 Qulacs Noisy)\", linewidth=4\n",
    ")\n",
    "plt.plot(\n",
    "    x, res2, \"k-\", alpha=0.7, label=\"Reference \\n(Lie Trotter, N=100 Qiskit Noisy)\", linewidth=4\n",
    ")\n",
    "plt.plot(\n",
    "    x, res3, \"g-\", alpha=0.7, label=\"Reference \\n(Lie Trotter, N=100 Qiskit)\", linewidth=4\n",
    ")\n",
    "\n",
    "plt.plot(\n",
    "    x, res4, \"b-\", alpha=0.7, label=\"Reference \\n(Lie Trotter, N=2000)\", linewidth=4\n",
    ")\n",
    "\n",
    "plt.plot(\n",
    "    x, res5, \"c-\", alpha=0.7, label=\"Reference \\n(Lie Trotter, N=2000 Qiskit Noisy)\", linewidth=4\n",
    ")\n",
    "\n",
    "plt.title(\"$\\\\langle X_0 \\\\rangle$\")\n",
    "plt.xlabel(\"Time $T$\")\n",
    "plt.ylabel(\"Expectation value\")\n",
    "plt.legend(fontsize=16)\n",
    "plt.grid(True)"
   ]
  }
 ],
 "metadata": {
  "kernelspec": {
   "display_name": ".venv",
   "language": "python",
   "name": "python3"
  },
  "language_info": {
   "codemirror_mode": {
    "name": "ipython",
    "version": 3
   },
   "file_extension": ".py",
   "mimetype": "text/x-python",
   "name": "python",
   "nbconvert_exporter": "python",
   "pygments_lexer": "ipython3",
   "version": "3.12.10"
  }
 },
 "nbformat": 4,
 "nbformat_minor": 5
}
